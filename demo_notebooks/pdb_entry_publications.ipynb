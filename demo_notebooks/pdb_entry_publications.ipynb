{
 "metadata": {
  "name": "pdb_entry_publications",
  "signature": "sha256:0f016d834c633cb075d8c99a2f08928bd26bc9635ad3b8d353170e1bee7863c6"
 },
 "nbformat": 3,
 "nbformat_minor": 0,
 "worksheets": [
  {
   "cells": [
    {
     "cell_type": "heading",
     "level": 3,
     "metadata": {},
     "source": [
      "Impact of PDB entries"
     ]
    },
    {
     "cell_type": "markdown",
     "metadata": {},
     "source": [
      "PDB entries are experimentally determined models of interesting proteins. Scholarly literature often refers to PDB entries in discussions about interesting aspects of macromolecules, e.g. fold, funtion, folding, etc. So, a basic way to measure the impact of a PDB entry is simply the count of publications associated with the entry."
     ]
    },
    {
     "cell_type": "heading",
     "level": 3,
     "metadata": {},
     "source": [
      "Publications from the API"
     ]
    },
    {
     "cell_type": "markdown",
     "metadata": {},
     "source": [
      "There are two calls for entry publications - /pdb/entry/publications and /pdb/entry/related_publications.\n",
      "Check them out in the <a href='http://wwwdev.ebi.ac.uk/pdbe/api/doc'>interactive documentation explorer</a> of the API.\n",
      "\n",
      "The first call provides articles associated with the entry directly, i.e. the ones which depositor provided.\n",
      "\n",
      "The second call provides articles and reviews mined from EuroPMC. These publications either cite the depositor's citations directly or merely mention the PDB entry id in the text of the article without explicitly citing any article. Note that articles with a mention of the PDB id can be mined by EuroPMC only when the full text of the article is freely available."
     ]
    },
    {
     "cell_type": "heading",
     "level": 3,
     "metadata": {},
     "source": [
      "Getting started"
     ]
    },
    {
     "cell_type": "markdown",
     "metadata": {},
     "source": [
      "Like other tutorials, start your code by importing essential modules, setting up logger and defining a function that fetches API data and makes python objects from them."
     ]
    },
    {
     "cell_type": "code",
     "collapsed": false,
     "input": [
      "import json, urllib2, logging, sys\n",
      "\n",
      "reload(logging)\n",
      "logging.basicConfig(\n",
      "    level=logging.DEBUG, stream=sys.stdout,\n",
      "    format='LOG|%(asctime)s|%(levelname)s  %(message)s', datefmt='%d-%b-%Y %H:%M:%S'\n",
      ")\n",
      "\n",
      "PDBE_API_URL = \"http://ves-hx-89.ebi.ac.uk/pdbe/api\"\n",
      "PDBE_API_URL = \"http://wwwdev.ebi.ac.uk/pdbe/api\"\n",
      "\n",
      "def get_PDBe_API_data(api_url) :\n",
      "    num_trials = 3\n",
      "    for trial_number in range(num_trials) :\n",
      "        try :\n",
      "            return json.loads(urllib2.urlopen(api_url).read())\n",
      "        except Exception, err :\n",
      "            logging.warn(\"Error fetching PDBe-API data! Trial number %d for call %s.\" % (trial_number, api_url))\n",
      "            if trial_number == num_trials-1 :\n",
      "                raise err"
     ],
     "language": "python",
     "metadata": {},
     "outputs": [],
     "prompt_number": 8
    },
    {
     "cell_type": "markdown",
     "metadata": {},
     "source": [
      "Obtain entries deposited by 'Kleywegt' using the <a href='http://wwwdev.ebi.ac.uk/pdbe/entry/search/index'>PDBe search</a>. There are 39 as of August 2014. These can be obtained programatically too using a search URL."
     ]
    },
    {
     "cell_type": "code",
     "collapsed": false,
     "input": [
      "pdb_ids_list = [\n",
      "    \"2c10\", \"2c11\", \"1wc2\", \"2c3n\", \"2c3q\", \"2c3t\", \"1xwg\", \"1usb\", \"1pkw\", \"1pkz\",\\\n",
      "    \"1pl1\", \"1pl2\", \"1o8v\", \"2cds\", \"1hb6\", \"1hb8\", \"1hgw\", \"1hgy\", \"1egn\", \"1hbk\",\\\n",
      "    \"2cbs\", \"3cbs\", \"2cbr\", \"1qjw\", \"1qk0\", \"1qk2\", \"2a2u\", \"2a2g\", \"1eg1\", \"1cb2\",\\\n",
      "    \"1fss\", \"1lbs\", \"1lbt\", \"2chr\", \"1fcc\", \"1cbq\", \"1cbr\", \"1cbs\", \"1guh\", \\\n",
      "]"
     ],
     "language": "python",
     "metadata": {},
     "outputs": [],
     "prompt_number": 6
    },
    {
     "cell_type": "heading",
     "level": 3,
     "metadata": {},
     "source": [
      "Fetching publications from API"
     ]
    },
    {
     "cell_type": "markdown",
     "metadata": {},
     "source": [
      "Let us now define a dictionary which will hold publications in three categories for each entry."
     ]
    },
    {
     "cell_type": "code",
     "collapsed": false,
     "input": [
      "import collections\n",
      "entry_pub_keys = collections.defaultdict( \\\n",
      "    lambda:{\"cited_by\":set(), \"appears_without_citation\":set(), \"depositor_citations\":set()} \\\n",
      ")"
     ],
     "language": "python",
     "metadata": {},
     "outputs": [],
     "prompt_number": 2
    },
    {
     "cell_type": "markdown",
     "metadata": {},
     "source": [
      "Since the two API calls return publications in slightly different formats, we need to store them in a more uniform data structure before further analysis.\n",
      "We should define a unique identifier for an article, so that we do not consider the same article twice.\n",
      "\n",
      "Pubmed id would have been a good choice, but not all articles are indexed in pubmed, notably those from Acta Cryst!\n",
      "\n",
      "So, let us create a composite key from title, journal name, volume, pages, publication year and pubmed_id."
     ]
    },
    {
     "cell_type": "code",
     "collapsed": false,
     "input": [
      "from collections import namedtuple\n",
      "ArticleKey = namedtuple(\"ArticleKey\", [\"title\",\"journal\",\"volume\",\"pages\",\"year\",\"pubmed_id\"])"
     ],
     "language": "python",
     "metadata": {},
     "outputs": [],
     "prompt_number": 3
    },
    {
     "cell_type": "markdown",
     "metadata": {},
     "source": [
      "Let us obtain unique keys for articles from /pdb/entry/publications"
     ]
    },
    {
     "cell_type": "code",
     "collapsed": false,
     "input": [
      "def make_entry_citation_key(pub_info) :\n",
      "    return ArticleKey(\n",
      "        pub_info[\"title\"],\n",
      "        pub_info[\"journal_info\"][\"pdb_abbreviation\"],\n",
      "        pub_info[\"journal_info\"][\"volume\"],\n",
      "        pub_info[\"journal_info\"][\"pages\"],\n",
      "        pub_info[\"journal_info\"][\"year\"],\n",
      "        pub_info[\"pubmed_id\"],\n",
      "    )"
     ],
     "language": "python",
     "metadata": {},
     "outputs": [],
     "prompt_number": 4
    },
    {
     "cell_type": "code",
     "collapsed": false,
     "input": [
      "for pdb_id in pdb_ids_list :\n",
      "    pub_url = PDBE_API_URL + \"/pdb/entry/publications/\" +pdb_id\n",
      "    try :\n",
      "        api_pub_data = get_PDBe_API_data(pub_url)[pdb_id]\n",
      "    except :\n",
      "        logging.warn(\"Entry publications could not be obtained for PDB id \" + pdb_id)\n",
      "    else :\n",
      "        for pub_info in api_pub_data :\n",
      "            pub_key = make_entry_citation_key(pub_info)\n",
      "            if pub_key.year is None :\n",
      "                continue\n",
      "            entry_pub_keys[pdb_id][\"depositor_citations\"].add(pub_key)"
     ],
     "language": "python",
     "metadata": {},
     "outputs": [],
     "prompt_number": 9
    },
    {
     "cell_type": "code",
     "collapsed": false,
     "input": [
      "def make_entry_related_publication_key(pub_info) :\n",
      "    return ArticleKey(\n",
      "        pub_info[\"title\"],\n",
      "        pub_info[\"journal\"],\n",
      "        pub_info[\"volume\"],\n",
      "        pub_info[\"pages\"],\n",
      "        pub_info[\"year\"],\n",
      "        pub_info[\"pubmed_id\"],\n",
      "    )\n",
      "\n",
      "for pdb_id in pdb_ids_list :\n",
      "    pub_url = PDBE_API_URL + \"/pdb/entry/related_publications/\" +pdb_id\n",
      "    try :\n",
      "        api_pub_data = get_PDBe_API_data(pub_url)[pdb_id]\n",
      "    except :\n",
      "        logging.warn(\"Entry related publications could not be obtained for PDB id \" + pdb_id)\n",
      "    else :\n",
      "        for pub_category in api_pub_data :\n",
      "            for pub_type, publications in api_pub_data[pub_category].items() :\n",
      "                for pub_info in publications :\n",
      "                    pub_key = make_entry_related_publication_key(pub_info)\n",
      "                    if pub_key.year is None :\n",
      "                        continue\n",
      "                    entry_pub_keys[pdb_id][pub_category].add(pub_key)\n"
     ],
     "language": "python",
     "metadata": {},
     "outputs": [
      {
       "output_type": "stream",
       "stream": "stdout",
       "text": [
        "LOG|07-Sep-2014 22:39:11|WARNING  Error fetching PDBe-API data! Trial number 0 for call http://wwwdev.ebi.ac.uk/pdbe/api/pdb/entry/related_publications/2cds.\n"
       ]
      },
      {
       "output_type": "stream",
       "stream": "stdout",
       "text": [
        "LOG|07-Sep-2014 22:39:11|WARNING  Error fetching PDBe-API data! Trial number 1 for call http://wwwdev.ebi.ac.uk/pdbe/api/pdb/entry/related_publications/2cds.\n"
       ]
      },
      {
       "output_type": "stream",
       "stream": "stdout",
       "text": [
        "LOG|07-Sep-2014 22:39:11|WARNING  Error fetching PDBe-API data! Trial number 2 for call http://wwwdev.ebi.ac.uk/pdbe/api/pdb/entry/related_publications/2cds.\n"
       ]
      },
      {
       "output_type": "stream",
       "stream": "stdout",
       "text": [
        "LOG|07-Sep-2014 22:39:11|WARNING  Entry related publications could not be obtained for PDB id 2cds\n"
       ]
      }
     ],
     "prompt_number": 10
    },
    {
     "cell_type": "heading",
     "level": 3,
     "metadata": {},
     "source": [
      "Ranking entries on impact"
     ]
    },
    {
     "cell_type": "markdown",
     "metadata": {},
     "source": [
      "Let us rank entries according to the number of publications in all three categories, and print a few at the top."
     ]
    },
    {
     "cell_type": "code",
     "collapsed": false,
     "input": [
      "for pub_category in [\"depositor_citations\", \"cited_by\", \"appears_without_citation\"] :\n",
      "    def key_func(pdb_id) :\n",
      "        return len(entry_pub_keys[pdb_id][pub_category])\n",
      "    for pdb_id in sorted(entry_pub_keys.keys(), reverse=True, key=key_func) [0:3] :\n",
      "        logging.info(\"PDB id %s has %d citations of type %s.\" % (pdb_id, len(entry_pub_keys[pdb_id][pub_category]), pub_category))"
     ],
     "language": "python",
     "metadata": {},
     "outputs": []
    },
    {
     "cell_type": "markdown",
     "metadata": {},
     "source": [
      "Let us plot the number of publications now."
     ]
    },
    {
     "cell_type": "code",
     "collapsed": false,
     "input": [
      "def make_publications_bar_plot(ordered_pdbids, xtick_maker) :\n",
      "    import matplotlib.pyplot as plt\n",
      "    fig = plt.figure()\n",
      "    ax = fig.add_subplot(111)\n",
      "    plt.ylabel(\"Number of publications\")\n",
      "    pub_categories = [\"depositor_citations\", \"cited_by\", \"appears_without_citation\"]\n",
      "    bar_colours = [\"red\",\"green\",\"blue\"]\n",
      "    plot_objects = []\n",
      "    xticks, xtick_labels = [], []\n",
      "    for pci in range(len(pub_categories)) :\n",
      "        x, y = [], []\n",
      "        pub_category = pub_categories[pci]\n",
      "        for pi in range(len(ordered_pdbids)) :\n",
      "            pdb_id = ordered_pdbids[pi]\n",
      "            x.append( 5 + pci + pi*(1+len(pub_categories)) )\n",
      "            if pci==1 :\n",
      "                xticks.append( 5 + pci + pi*(1+len(pub_categories)) )\n",
      "                xtick_labels.append( xtick_maker(pdb_id) )\n",
      "            y.append( len(entry_pub_keys[pdb_id][pub_category]) )\n",
      "        plot_objects.append( ax.bar(x, y, color=bar_colours[pci]) )\n",
      "    ax.legend( [po[0] for po in plot_objects], pub_categories )\n",
      "    ax.set_xticks(xticks)\n",
      "    xticks_obj = ax.set_xticklabels(xtick_labels)\n",
      "    plt.setp(xticks_obj, rotation=90)\n",
      "    plt.ylim([0,200])\n",
      "    plt.show()\n",
      "\n",
      "make_publications_bar_plot(entry_pub_keys.keys(), lambda pid:pid)"
     ],
     "language": "python",
     "metadata": {},
     "outputs": []
    },
    {
     "cell_type": "markdown",
     "metadata": {},
     "source": [
      "\n",
      "\n",
      "Do number of publications correlate with year of deposition of the entry? From the data we already fetched from the API, we have publication years - the earlist of which would be close to the year of deposition.\n",
      "\n",
      "Let us reorder X axis of the plot based on this year."
     ]
    },
    {
     "cell_type": "code",
     "collapsed": false,
     "input": [
      "def earliest_year(pdb_id) :\n",
      "    ret_year = 3000\n",
      "    for pub_cat in entry_pub_keys[pdb_id] :\n",
      "        for pub_key in entry_pub_keys[pdb_id][pub_cat] :\n",
      "            if pub_key.year == None :\n",
      "                logging.warn(\"Missing year publication! \" + str(pub_key))\n",
      "                continue\n",
      "            entry_year = int(pub_key.year)\n",
      "            if ret_year > entry_year :\n",
      "                ret_year = entry_year\n",
      "    return ret_year\n",
      "\n",
      "pdbids_with_publications = list( sorted(entry_pub_keys.keys(), key=earliest_year) )\n",
      "make_publications_bar_plot(pdbids_with_publications, lambda pid:pid+\":\"+str(earliest_year(pid)))"
     ],
     "language": "python",
     "metadata": {},
     "outputs": []
    },
    {
     "cell_type": "heading",
     "level": 3,
     "metadata": {},
     "source": [
      "Your turn!"
     ]
    },
    {
     "cell_type": "markdown",
     "metadata": {},
     "source": [
      "<ul>\n",
      "    <li>\n",
      "        Explore correlation between number of publications associated with an entry and protein studied, co-authors and resolution.\n",
      "    </li>\n",
      "    <li>\n",
      "        Repeat this exercise on another subset of entries, such as those containing your favourite protein.\n",
      "    </li>\n",
      "</ul>\n"
     ]
    }
   ],
   "metadata": {}
  }
 ]
}