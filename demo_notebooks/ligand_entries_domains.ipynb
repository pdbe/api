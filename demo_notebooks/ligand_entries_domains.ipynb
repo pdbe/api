{
 "metadata": {
  "name": "",
  "signature": "sha256:5378c4154b948c1c436452afdb58341121cd1cb009718098ecca4436046575bd"
 },
 "nbformat": 3,
 "nbformat_minor": 0,
 "worksheets": [
  {
   "cells": [
    {
     "cell_type": "heading",
     "level": 1,
     "metadata": {},
     "source": [
      "PDBe API Tutorial Example"
     ]
    },
    {
     "cell_type": "markdown",
     "metadata": {},
     "source": [
      "<table border=0>\n",
      "    <tr>\n",
      "        <td>\n",
      "            In this example, we will use the PDBe API to :\n",
      "            <ul>\n",
      "                <li>\n",
      "                    find the PDB entries containing retinoic acid (<a href='http://pdbe.org/chem/REA'>REA</a>),\n",
      "                </li>\n",
      "                <li>\n",
      "                    analyze the domain composition of those entries, and\n",
      "                </li>\n",
      "                <li>\n",
      "                    choose the best modelled example of domain-ligand interaction.\n",
      "                </li>\n",
      "            </ul>\n",
      "        </td>\n",
      "        <td>\n",
      "             <img src=\"http://www.ebi.ac.uk/pdbe-srv/pdbechem/image/showNew?code=REA&size=200\">\n",
      "        </td>\n",
      "    </tr>\n",
      "</table>\n",
      "\n"
     ]
    },
    {
     "cell_type": "markdown",
     "metadata": {},
     "source": [
      "To start off, define the API URL."
     ]
    },
    {
     "cell_type": "code",
     "collapsed": false,
     "input": [
      "PDBE_API_URL = \"http://wwwdev.ebi.ac.uk/pdbe/api\""
     ],
     "language": "python",
     "metadata": {},
     "outputs": [],
     "prompt_number": 2
    },
    {
     "cell_type": "markdown",
     "metadata": {},
     "source": [
      "Browse the API documentation interactively at <code>PDBE_API_URL + \"/doc\"</code>, i.e. http://wwwdev.ebi.ac.uk/pdbe/api/doc"
     ]
    },
    {
     "cell_type": "markdown",
     "metadata": {},
     "source": [
      "You will need to import a few built-in python modules to work with the API, such as:\n",
      "<ol>\n",
      "    <li><i>urllib2</i> to make a http request to the API server</li>\n",
      "    <li><i>json</i> to convert API reponse to python object</li>\n",
      "    <li><i>logging</i> to write log messages</li>\n",
      "</ol>"
     ]
    },
    {
     "cell_type": "code",
     "collapsed": false,
     "input": [
      "import json, urllib2, logging, sys\n",
      "\n",
      "# configure the logger\n",
      "# btw, reload is just a hack to make logging work in the notebook, it's usually uncessary\n",
      "reload(logging)\n",
      "logging.basicConfig(\n",
      "    level=logging.DEBUG, stream=sys.stdout,\n",
      "    format='LOG|%(asctime)s|%(levelname)s  %(message)s', datefmt='%d-%b-%Y %H:%M:%S'\n",
      ")"
     ],
     "language": "python",
     "metadata": {},
     "outputs": [],
     "prompt_number": 9
    },
    {
     "cell_type": "markdown",
     "metadata": {},
     "source": [
      "Let us begin by finding PDB entries that contain retinoic acid (PDB chemical component REA). For this, we will use the API call <code>/pdb/compound/in_pdb.</code>"
     ]
    },
    {
     "cell_type": "code",
     "collapsed": false,
     "input": [
      "chem_comp_id = \"REA\"\n",
      "cc_entries_URL = PDBE_API_URL + \"/pdb/compound/in_pdb/\" + chem_comp_id\n",
      "cc_entries_data = json.loads(urllib2.urlopen(cc_entries_URL).read())\n",
      "cc_entries = cc_entries_data[chem_comp_id]\n",
      "logging.info(\"There are %d PDB entries containing chemical component %s.\" % (len(cc_entries), chem_comp_id))"
     ],
     "language": "python",
     "metadata": {},
     "outputs": [
      {
       "output_type": "stream",
       "stream": "stdout",
       "text": [
        "LOG|01-Sep-2014 11:38:32|INFO  There are 31 PDB entries containing chemical component REA.\n"
       ]
      }
     ],
     "prompt_number": 13
    },
    {
     "cell_type": "markdown",
     "metadata": {},
     "source": [
      "Hmmm, so we have 31 entries containing REA.\n",
      "\n",
      "Before digging deeper, let us digress a bit. The API call you made can fail due to a variety of reasons: network, overloading of our http servers, temporary failure of our databases, etc. Hence it is always more robust to try the call, say thrice, before raising an exception, or reporting a bug to the PDBe. Let us write a function to tuck this digression away."
     ]
    },
    {
     "cell_type": "code",
     "collapsed": false,
     "input": [
      "def get_PDBe_API_data(api_url) :\n",
      "    num_trials = 3\n",
      "    for trial_number in range(num_trials) :\n",
      "        try :\n",
      "            return json.loads(urllib2.urlopen(api_url).read())\n",
      "        except Exception, err :\n",
      "            logging.warn(\"Error fetching PDBe-API data! Trial number %d for call %s.\" % (trial_number, api_url))\n",
      "            if trial_number == num_trials-1 :\n",
      "                raise err\n",
      "\n",
      "cc_entries = get_PDBe_API_data(cc_entries_URL)[chem_comp_id]\n",
      "logging.info(\"There are %d PDB entries containing chemical component %s.\" % (len(cc_entries), chem_comp_id))"
     ],
     "language": "python",
     "metadata": {},
     "outputs": [
      {
       "output_type": "stream",
       "stream": "stdout",
       "text": [
        "LOG|01-Sep-2014 11:38:34|INFO  There are 31 PDB entries containing chemical component REA.\n"
       ]
      }
     ],
     "prompt_number": 14
    },
    {
     "cell_type": "markdown",
     "metadata": {},
     "source": [
      "So far so good. Now let's figure the domain composition of these entries by using the SIFTS mappings call."
     ]
    },
    {
     "cell_type": "code",
     "collapsed": false,
     "input": [
      "# a simple function to pretty-print the mapping\n",
      "def print_mapping(mrange) :\n",
      "    print mrange\n",
      "import collections\n",
      "domain_counts = collections.defaultdict(lambda:0)\n",
      "\n",
      "domain_type = \"Pfam\"\n",
      "\n",
      "for pdb_id in REA_entries :\n",
      "    mappings_data = get_PDBe_API_data(PDBE_API_URL+\"/mappings/\"+pdb_id)\n",
      "    try :\n",
      "        mappings = mappings_data[pdb_id][domain_type]\n",
      "        logging.info(\"Mapping obtained for entry \" + pdb_id)\n",
      "    except KeyError :\n",
      "        logging.warn(\"Required mapping not obtained for entry \" + pdb_id)\n",
      "        continue\n",
      "    for pfam_id in mappings :\n",
      "        for mapped_range in mappings[pfam_id][\"mappings\"] :\n",
      "            print mapped_range\n",
      "            # print_mapping(mapped_range)\n",
      "    break\n"
     ],
     "language": "python",
     "metadata": {},
     "outputs": [
      {
       "output_type": "stream",
       "stream": "stdout",
       "text": [
        "LOG|01-Sep-2014 11:46:05|INFO  Mapping obtained for entry 1xiu\n"
       ]
      },
      {
       "output_type": "stream",
       "stream": "stdout",
       "text": [
        "{u'start': {u'author_residue_number': 223, u'author_insertion_code': u'', u'residue_number': 17}, u'entity_id': 1, u'end': {u'author_residue_number': 416, u'author_insertion_code': u'', u'residue_number': 210}, u'chain_id': u'A', u'struct_asym_id': u'A'}\n",
        "{u'start': {u'author_residue_number': 223, u'author_insertion_code': u'', u'residue_number': 17}, u'entity_id': 1, u'end': {u'author_residue_number': 416, u'author_insertion_code': u'', u'residue_number': 210}, u'chain_id': u'B', u'struct_asym_id': u'B'}\n"
       ]
      }
     ],
     "prompt_number": 18
    },
    {
     "cell_type": "code",
     "collapsed": false,
     "input": [
      "import matplotlib.pyplot as plt\n",
      "plt.plot([1,3,10])\n",
      "plt.show()"
     ],
     "language": "python",
     "metadata": {},
     "outputs": [],
     "prompt_number": 19
    },
    {
     "cell_type": "code",
     "collapsed": false,
     "input": [],
     "language": "python",
     "metadata": {},
     "outputs": []
    }
   ],
   "metadata": {}
  }
 ]
}