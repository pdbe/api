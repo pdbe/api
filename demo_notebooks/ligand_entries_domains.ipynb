{
 "metadata": {
  "name": "",
  "signature": "sha256:0fa23a1b1ff61bfe59dfe12c01899e3be13ad981be087a8f1707e0f03b8e3d5f"
 },
 "nbformat": 3,
 "nbformat_minor": 0,
 "worksheets": [
  {
   "cells": [
    {
     "cell_type": "heading",
     "level": 1,
     "metadata": {},
     "source": [
      "PDBe API Tutorial Example"
     ]
    },
    {
     "cell_type": "markdown",
     "metadata": {},
     "source": [
      "<table border=0>\n",
      "    <tr>\n",
      "        <td>\n",
      "            Often we want to see how a ligand binds to a domain and how such binding sites compare across multiple PDB entries.\n",
      "            <br>\n",
      "            <br>\n",
      "            In this example, we will use the PDBe API to :\n",
      "            <ul>\n",
      "                <li>\n",
      "                    find the PDB entries containing retinoic acid (<a href='http://pdbe.org/chem/REA'>REA</a>),\n",
      "                </li>\n",
      "                <li>\n",
      "                    analyze the domain composition of those entries,\n",
      "                </li>\n",
      "                <li>\n",
      "                    find the CATH domains which interact with REA,\n",
      "                </li>\n",
      "                <li>\n",
      "                    choose the best modelled example of domain-ligand interaction.\n",
      "                </li>\n",
      "            </ul>\n",
      "        </td>\n",
      "        <td>\n",
      "             <img src=\"http://www.ebi.ac.uk/pdbe-srv/pdbechem/image/showNew?code=REA&size=200\">\n",
      "        </td>\n",
      "    </tr>\n",
      "</table>\n",
      "\n"
     ]
    },
    {
     "cell_type": "markdown",
     "metadata": {},
     "source": [
      "To start off, define the API URL yu want to use. API is hosted on www and wwwdev. Generally you should use www because wwwdev is meant for beta testing."
     ]
    },
    {
     "cell_type": "code",
     "collapsed": false,
     "input": [
      "PDBE_API_URL = \"http://ves-hx-89.ebi.ac.uk/pdbe/api\""
     ],
     "language": "python",
     "metadata": {},
     "outputs": [],
     "prompt_number": 1
    },
    {
     "cell_type": "markdown",
     "metadata": {},
     "source": [
      "Browse the API documentation interactively at <code>PDBE_API_URL + \"/doc\"</code>, i.e. http://wwwdev.ebi.ac.uk/pdbe/api/doc"
     ]
    },
    {
     "cell_type": "markdown",
     "metadata": {},
     "source": [
      "You will need to import a few built-in python modules to work with the API, such as:\n",
      "<ul>\n",
      "    <li><i>urllib2</i> to make a http request to the API server</li>\n",
      "    <li><i>json</i> to convert API reponse to python object</li>\n",
      "    <li><i>logging</i> to write log messages</li>\n",
      "</ul>"
     ]
    },
    {
     "cell_type": "code",
     "collapsed": false,
     "input": [
      "import json, urllib2, logging, sys\n",
      "\n",
      "# configure the logger\n",
      "# btw, reload is just a hack to make logging work in the notebook, it's usually uncessary\n",
      "reload(logging)\n",
      "logging.basicConfig(\n",
      "    level=logging.DEBUG, stream=sys.stdout,\n",
      "    format='LOG|%(asctime)s|%(levelname)s  %(message)s', datefmt='%d-%b-%Y %H:%M:%S'\n",
      ")"
     ],
     "language": "python",
     "metadata": {},
     "outputs": [],
     "prompt_number": 2
    },
    {
     "cell_type": "markdown",
     "metadata": {},
     "source": [
      "Let us begin by finding PDB entries that contain retinoic acid (PDB chemical component REA). For this, we will use the API call <code>/pdb/compound/in_pdb.</code>"
     ]
    },
    {
     "cell_type": "code",
     "collapsed": false,
     "input": [
      "chem_comp_id = \"REA\"\n",
      "cc_entries_URL = PDBE_API_URL + \"/pdb/compound/in_pdb/\" + chem_comp_id\n",
      "cc_entries_data = json.loads(urllib2.urlopen(cc_entries_URL).read())\n",
      "cc_entries = cc_entries_data[chem_comp_id]\n",
      "logging.info(\"There are %d PDB entries containing chemical component %s.\" % (len(cc_entries), chem_comp_id))"
     ],
     "language": "python",
     "metadata": {},
     "outputs": [
      {
       "output_type": "stream",
       "stream": "stdout",
       "text": [
        "LOG|01-Sep-2014 15:45:33|INFO  There are 31 PDB entries containing chemical component REA.\n"
       ]
      }
     ],
     "prompt_number": 3
    },
    {
     "cell_type": "markdown",
     "metadata": {},
     "source": [
      "Hmmm, so we have 31 entries containing REA.\n",
      "\n",
      "Before digging deeper, let us digress a bit. The API call you made can fail (very rarely) due to a variety of reasons beyond your control, e.g. network, overloading of our http servers, temporary failure of our databases, etc. Hence it is always more robust to try the call, say thrice, before raising an exception, or reporting a bug to the PDBe. Let us write a function to tuck this digression away."
     ]
    },
    {
     "cell_type": "code",
     "collapsed": false,
     "input": [
      "def get_PDBe_API_data(api_url) :\n",
      "    num_trials = 3\n",
      "    for trial_number in range(num_trials) :\n",
      "        try :\n",
      "            return json.loads(urllib2.urlopen(api_url).read())\n",
      "        except Exception, err :\n",
      "            logging.warn(\"Error fetching PDBe-API data! Trial number %d for call %s.\" % (trial_number, api_url))\n",
      "            if trial_number == num_trials-1 :\n",
      "                raise err\n",
      "\n",
      "cc_entries = get_PDBe_API_data(cc_entries_URL)[chem_comp_id]\n",
      "logging.info(\"There are %d PDB entries containing chemical component %s.\" % (len(cc_entries), chem_comp_id))"
     ],
     "language": "python",
     "metadata": {},
     "outputs": [
      {
       "output_type": "stream",
       "stream": "stdout",
       "text": [
        "LOG|01-Sep-2014 15:45:35|INFO  There are 31 PDB entries containing chemical component REA.\n"
       ]
      }
     ],
     "prompt_number": 4
    },
    {
     "cell_type": "markdown",
     "metadata": {},
     "source": [
      "So far so good. Now let's figure the domain composition of these entries by using the SIFTS mappings call. This call returns many types of mappings, such as UniProt accessions, Pfam families, InterPro, SCOP, CATH, etc. We will make one mapping call for each PDB entry id."
     ]
    },
    {
     "cell_type": "code",
     "collapsed": false,
     "input": [
      "def get_mappings() :\n",
      "    all_mappings = {}\n",
      "    for pdb_id in cc_entries :\n",
      "        mappings_data = get_PDBe_API_data(PDBE_API_URL+\"/mappings/\"+pdb_id)\n",
      "        try :\n",
      "            all_mappings[pdb_id] = mappings_data[pdb_id]\n",
      "            print \".\",\n",
      "        except KeyError :\n",
      "            logging.warn(\"Mappings call failed for entry \" + pdb_id)\n",
      "    print \"\"\n",
      "    logging.info(\"Mappings fetched for %d of %d entries.\" % (len(all_mappings), len(cc_entries)))\n",
      "    return all_mappings\n",
      "\n",
      "mappings = get_mappings()"
     ],
     "language": "python",
     "metadata": {},
     "outputs": [
      {
       "output_type": "stream",
       "stream": "stdout",
       "text": [
        ". "
       ]
      },
      {
       "output_type": "stream",
       "stream": "stdout",
       "text": [
        ". "
       ]
      },
      {
       "output_type": "stream",
       "stream": "stdout",
       "text": [
        ". "
       ]
      },
      {
       "output_type": "stream",
       "stream": "stdout",
       "text": [
        ". "
       ]
      },
      {
       "output_type": "stream",
       "stream": "stdout",
       "text": [
        ". "
       ]
      },
      {
       "output_type": "stream",
       "stream": "stdout",
       "text": [
        ". "
       ]
      },
      {
       "output_type": "stream",
       "stream": "stdout",
       "text": [
        ". "
       ]
      },
      {
       "output_type": "stream",
       "stream": "stdout",
       "text": [
        ". "
       ]
      },
      {
       "output_type": "stream",
       "stream": "stdout",
       "text": [
        ". "
       ]
      },
      {
       "output_type": "stream",
       "stream": "stdout",
       "text": [
        ". . "
       ]
      },
      {
       "output_type": "stream",
       "stream": "stdout",
       "text": [
        ". "
       ]
      },
      {
       "output_type": "stream",
       "stream": "stdout",
       "text": [
        ". "
       ]
      },
      {
       "output_type": "stream",
       "stream": "stdout",
       "text": [
        ". "
       ]
      },
      {
       "output_type": "stream",
       "stream": "stdout",
       "text": [
        ". "
       ]
      },
      {
       "output_type": "stream",
       "stream": "stdout",
       "text": [
        ". "
       ]
      },
      {
       "output_type": "stream",
       "stream": "stdout",
       "text": [
        ". "
       ]
      },
      {
       "output_type": "stream",
       "stream": "stdout",
       "text": [
        ". "
       ]
      },
      {
       "output_type": "stream",
       "stream": "stdout",
       "text": [
        ". "
       ]
      },
      {
       "output_type": "stream",
       "stream": "stdout",
       "text": [
        ". "
       ]
      },
      {
       "output_type": "stream",
       "stream": "stdout",
       "text": [
        ". "
       ]
      },
      {
       "output_type": "stream",
       "stream": "stdout",
       "text": [
        ". "
       ]
      },
      {
       "output_type": "stream",
       "stream": "stdout",
       "text": [
        ". "
       ]
      },
      {
       "output_type": "stream",
       "stream": "stdout",
       "text": [
        ". "
       ]
      },
      {
       "output_type": "stream",
       "stream": "stdout",
       "text": [
        ". "
       ]
      },
      {
       "output_type": "stream",
       "stream": "stdout",
       "text": [
        ". "
       ]
      },
      {
       "output_type": "stream",
       "stream": "stdout",
       "text": [
        ". "
       ]
      },
      {
       "output_type": "stream",
       "stream": "stdout",
       "text": [
        ". "
       ]
      },
      {
       "output_type": "stream",
       "stream": "stdout",
       "text": [
        ". "
       ]
      },
      {
       "output_type": "stream",
       "stream": "stdout",
       "text": [
        ". "
       ]
      },
      {
       "output_type": "stream",
       "stream": "stdout",
       "text": [
        ". \n",
        "LOG|01-Sep-2014 15:45:42|INFO  Mappings fetched for 31 of 31 entries.\n"
       ]
      }
     ],
     "prompt_number": 5
    },
    {
     "cell_type": "markdown",
     "metadata": {},
     "source": [
      "Which mappings are available? Let us count."
     ]
    },
    {
     "cell_type": "code",
     "collapsed": false,
     "input": [
      "import collections\n",
      "mapping_counts = collections.defaultdict(lambda:0)\n",
      "\n",
      "for pdb_id in mappings :\n",
      "    for mapping_type, mappings_info in mappings[pdb_id].items() :\n",
      "        if len(mappings_info) > 0 :\n",
      "            mapping_counts[mapping_type] += 1\n",
      "\n",
      "for mt, mc in mapping_counts.items() :\n",
      "    logging.info(\"%3d entries have %s mappings.\" % (mc, mt))"
     ],
     "language": "python",
     "metadata": {},
     "outputs": [
      {
       "output_type": "stream",
       "stream": "stdout",
       "text": [
        "LOG|01-Sep-2014 15:45:45|INFO   31 entries have Pfam mappings.\n"
       ]
      },
      {
       "output_type": "stream",
       "stream": "stdout",
       "text": [
        "LOG|01-Sep-2014 15:45:45|INFO   31 entries have InterPro mappings.\n"
       ]
      },
      {
       "output_type": "stream",
       "stream": "stdout",
       "text": [
        "LOG|01-Sep-2014 15:45:45|INFO   26 entries have CATH mappings.\n"
       ]
      },
      {
       "output_type": "stream",
       "stream": "stdout",
       "text": [
        "LOG|01-Sep-2014 15:45:45|INFO    4 entries have EC mappings.\n"
       ]
      },
      {
       "output_type": "stream",
       "stream": "stdout",
       "text": [
        "LOG|01-Sep-2014 15:45:45|INFO   31 entries have UniProt mappings.\n"
       ]
      },
      {
       "output_type": "stream",
       "stream": "stdout",
       "text": [
        "LOG|01-Sep-2014 15:45:45|INFO   17 entries have SCOP mappings.\n"
       ]
      },
      {
       "output_type": "stream",
       "stream": "stdout",
       "text": [
        "LOG|01-Sep-2014 15:45:45|INFO   31 entries have GO mappings.\n"
       ]
      }
     ],
     "prompt_number": 6
    },
    {
     "cell_type": "markdown",
     "metadata": {},
     "source": [
      "Let us focus on CATH superfamilies and count how many times each superfamily is mapped onto entries containing the compound of our interest."
     ]
    },
    {
     "cell_type": "code",
     "collapsed": false,
     "input": [
      "dom_type = \"CATH\"\n",
      "dom_counts = collections.defaultdict(lambda:0)\n",
      "\n",
      "for pdb_id in mappings :\n",
      "    if not mappings[pdb_id].has_key(dom_type) :\n",
      "        continue\n",
      "    else :\n",
      "        for dom_id, mranges in mappings[pdb_id][dom_type].items() :\n",
      "            dom_counts[dom_id] += 1\n",
      "            #print pdb_id, dom_id, mranges\n",
      "\n",
      "for dom_id, frequency in dom_counts.items() :\n",
      "    logging.info(\"CATH superfamily %12s occurs in %3d entries.\" % (dom_id, frequency))"
     ],
     "language": "python",
     "metadata": {},
     "outputs": [
      {
       "output_type": "stream",
       "stream": "stdout",
       "text": [
        "LOG|01-Sep-2014 15:45:49|INFO  CATH superfamily  2.40.128.20 occurs in   9 entries.\n"
       ]
      },
      {
       "output_type": "stream",
       "stream": "stdout",
       "text": [
        "LOG|01-Sep-2014 15:45:49|INFO  CATH superfamily  2.60.40.180 occurs in   2 entries.\n"
       ]
      },
      {
       "output_type": "stream",
       "stream": "stdout",
       "text": [
        "LOG|01-Sep-2014 15:45:49|INFO  CATH superfamily   3.30.50.10 occurs in   3 entries.\n"
       ]
      },
      {
       "output_type": "stream",
       "stream": "stdout",
       "text": [
        "LOG|01-Sep-2014 15:45:49|INFO  CATH superfamily  1.10.565.10 occurs in  15 entries.\n"
       ]
      },
      {
       "output_type": "stream",
       "stream": "stdout",
       "text": [
        "LOG|01-Sep-2014 15:45:49|INFO  CATH superfamily  1.10.630.10 occurs in   1 entries.\n"
       ]
      }
     ],
     "prompt_number": 7
    },
    {
     "cell_type": "markdown",
     "metadata": {},
     "source": [
      "Let us now make a associative array of PDB chains with superfamilies."
     ]
    },
    {
     "cell_type": "code",
     "collapsed": false,
     "input": [
      "chain_to_domain = collections.defaultdict(lambda:[])\n",
      "for pdb_id in mappings :\n",
      "    if not mappings[pdb_id].has_key(dom_type) :\n",
      "        continue\n",
      "    else :\n",
      "        for dom_id, mapping_info in mappings[pdb_id][dom_type].items() :\n",
      "            for arange in mapping_info[\"mappings\"] :\n",
      "                chain_to_domain[(pdb_id,arange[\"chain_id\"])].append(dom_id)\n",
      "print chain_to_domain"
     ],
     "language": "python",
     "metadata": {},
     "outputs": [
      {
       "output_type": "stream",
       "stream": "stdout",
       "text": [
        "defaultdict(<function <lambda> at 0x7f6bdc4a10c8>, {(u'3fal', u'D'): [u'1.10.565.10'], (u'3fc6', u'B'): [u'1.10.565.10'], (u'3dzy', u'A'): [u'3.30.50.10', u'1.10.565.10'], (u'1xls', u'B'): [u'1.10.565.10'], (u'1xiu', u'B'): [u'1.10.565.10'], (u'3e00', u'D'): [u'3.30.50.10', u'1.10.565.10'], (u'1xdk', u'F'): [u'1.10.565.10'], (u'1rlb', u'B'): [u'2.60.40.180'], (u'1epb', u'A'): [u'2.40.128.20'], (u'2acl', u'H'): [u'1.10.565.10'], (u'2acl', u'F'): [u'1.10.565.10'], (u'1rlb', u'E'): [u'2.40.128.20'], (u'1xdk', u'B'): [u'1.10.565.10'], (u'3dzu', u'A'): [u'3.30.50.10', u'1.10.565.10'], (u'2lbd', u'A'): [u'1.10.565.10'], (u'2g78', u'A'): [u'2.40.128.20'], (u'1cbr', u'A'): [u'2.40.128.20'], (u'3a9e', u'B'): [u'1.10.565.10'], (u'1xls', u'E'): [u'1.10.565.10'], (u'2nnh', u'B'): [u'1.10.630.10'], (u'2acl', u'A'): [u'1.10.565.10'], (u'1gx9', u'A'): [u'2.40.128.20'], (u'3dzu', u'D'): [u'3.30.50.10', u'1.10.565.10'], (u'1g5y', u'B'): [u'1.10.565.10'], (u'3dzy', u'D'): [u'3.30.50.10', u'1.10.565.10'], (u'1xls', u'A'): [u'1.10.565.10'], (u'3lbd', u'A'): [u'1.10.565.10'], (u'2acl', u'E'): [u'1.10.565.10'], (u'1xdk', u'E'): [u'1.10.565.10'], (u'1cbs', u'A'): [u'2.40.128.20'], (u'3fc6', u'D'): [u'1.10.565.10'], (u'1rlb', u'C'): [u'2.60.40.180'], (u'1tyr', u'A'): [u'2.60.40.180'], (u'1xdk', u'A'): [u'1.10.565.10'], (u'1xls', u'D'): [u'1.10.565.10'], (u'2nnh', u'A'): [u'1.10.630.10'], (u'1rlb', u'F'): [u'2.40.128.20'], (u'2acl', u'B'): [u'1.10.565.10'], (u'1g5y', u'A'): [u'1.10.565.10'], (u'1rlb', u'A'): [u'2.60.40.180'], (u'2acl', u'D'): [u'1.10.565.10'], (u'3fal', u'B'): [u'1.10.565.10'], (u'1n4h', u'A'): [u'1.10.565.10'], (u'1tyr', u'B'): [u'2.60.40.180'], (u'1fby', u'B'): [u'1.10.565.10'], (u'1g5y', u'D'): [u'1.10.565.10'], (u'1xls', u'G'): [u'1.10.565.10'], (u'1xiu', u'A'): [u'1.10.565.10'], (u'2acl', u'G'): [u'1.10.565.10'], (u'1fem', u'A'): [u'2.40.128.20'], (u'1xls', u'H'): [u'1.10.565.10'], (u'1epb', u'B'): [u'2.40.128.20'], (u'1rlb', u'D'): [u'2.60.40.180'], (u'1xls', u'C'): [u'1.10.565.10'], (u'2acl', u'C'): [u'1.10.565.10'], (u'1g5y', u'C'): [u'1.10.565.10'], (u'1fby', u'A'): [u'1.10.565.10'], (u'1cbr', u'B'): [u'2.40.128.20'], (u'3e00', u'A'): [u'3.30.50.10', u'1.10.565.10'], (u'2fr3', u'A'): [u'2.40.128.20'], (u'1xls', u'F'): [u'1.10.565.10'], (u'3cwk', u'A'): [u'2.40.128.20']})\n"
       ]
      }
     ],
     "prompt_number": 22
    },
    {
     "cell_type": "markdown",
     "metadata": {},
     "source": [
      "Now let us obtain the chains that interact with REA."
     ]
    },
    {
     "cell_type": "code",
     "collapsed": false,
     "input": [
      "def get_binding_sites() :\n",
      "    all_sites = collections.defaultdict(lambda:[])\n",
      "    for pdb_id in cc_entries :\n",
      "        api_data = get_PDBe_API_data(PDBE_API_URL+\"/pdb/entry/binding_sites/\"+pdb_id)\n",
      "        for asite in api_data[pdb_id] :\n",
      "            site_added = False\n",
      "            for aligand in asite[\"ligand_residues\"] :\n",
      "                if aligand[\"chem_comp_id\"] == chem_comp_id and not site_added :\n",
      "                    all_sites[pdb_id].append(asite)\n",
      "                    site_added = True\n",
      "                    break\n",
      "    return all_sites\n",
      "\n",
      "binding_sites = get_binding_sites()\n",
      "binding_frequency = collections.defaultdict(lambda:0)\n",
      "for pdb_id, sites_info in binding_sites.items() :\n",
      "    binding_frequency[len(sites_info)] += 1\n",
      "for num_sites, num_entries in binding_frequency.items() :\n",
      "    print \"%2d entries have %2d binding sites of %s.\" % (num_entries, num_sites, chem_comp_id)"
     ],
     "language": "python",
     "metadata": {},
     "outputs": [
      {
       "output_type": "stream",
       "stream": "stdout",
       "text": [
        "13 entries have  1 binding sites of REA.\n",
        "11 entries have  2 binding sites of REA.\n",
        " 2 entries have  4 binding sites of REA.\n"
       ]
      }
     ],
     "prompt_number": 16
    },
    {
     "cell_type": "markdown",
     "metadata": {},
     "source": [
      "Now let us find domain annotation on chains that have at least one residue in binding site of our favourite compound."
     ]
    },
    {
     "cell_type": "code",
     "collapsed": false,
     "input": [],
     "language": "python",
     "metadata": {},
     "outputs": []
    },
    {
     "cell_type": "code",
     "collapsed": false,
     "input": [],
     "language": "python",
     "metadata": {},
     "outputs": []
    },
    {
     "cell_type": "code",
     "collapsed": false,
     "input": [],
     "language": "python",
     "metadata": {},
     "outputs": []
    },
    {
     "cell_type": "markdown",
     "metadata": {},
     "source": [
      "There can be many different ways to filter and rank the interactions based on the quality of PDB entry, completeness (sequence coverage) of the chain, sequence similarity, year of determination, etc. Can you implement a jiffy to derive a better ligand-domain interactions set?"
     ]
    },
    {
     "cell_type": "code",
     "collapsed": false,
     "input": [
      "%matplotlib inline\n",
      "import matplotlib.pyplot as plt\n",
      "plt.plot([1,3,10])\n",
      "plt.show()"
     ],
     "language": "python",
     "metadata": {},
     "outputs": [
      {
       "metadata": {},
       "output_type": "display_data",
       "png": "[encoded data removed]",
       "text": [
        "<matplotlib.figure.Figure at 0x7fa3dfa5b410>"
       ]
      }
     ],
     "prompt_number": 9
    },
    {
     "cell_type": "code",
     "collapsed": false,
     "input": [
      "\n",
      "\n",
      "    \n",
      "\n",
      "\n",
      "        \n",
      "# pretty-print the mapping\n",
      "def print_mapping(mrange) :\n",
      "    print mrange        \n",
      "        \n",
      "def print_mapping(mrange) :    \n",
      "    print \"HIIII\", mrange\n",
      "    \n",
      "import collections # count the number of occurrences of domains\n",
      "domain_counts = collections.defaultdict(lambda:0)\n",
      "\n",
      "#for pfam_id in mappings :\n",
      "        #for mapped_range in mappings[pfam_id][\"mappings\"] :\n",
      "        #    print_mapping(mapped_range)\n",
      "\n"
     ],
     "language": "python",
     "metadata": {},
     "outputs": [
      {
       "output_type": "stream",
       "stream": "stdout",
       "text": [
        "LOG|01-Sep-2014 12:49:40|INFO  UniProt mapping obtained for entry 1xiu\n"
       ]
      },
      {
       "output_type": "stream",
       "stream": "stdout",
       "text": [
        "LOG|01-Sep-2014 12:49:40|INFO  UniProt mapping obtained for entry 1fby\n"
       ]
      },
      {
       "output_type": "stream",
       "stream": "stdout",
       "text": [
        "LOG|01-Sep-2014 12:49:40|INFO  UniProt mapping obtained for entry 1epb\n"
       ]
      },
      {
       "output_type": "stream",
       "stream": "stdout",
       "text": [
        "LOG|01-Sep-2014 12:49:40|INFO  UniProt mapping obtained for entry 1gx9\n"
       ]
      },
      {
       "output_type": "stream",
       "stream": "stdout",
       "text": [
        "LOG|01-Sep-2014 12:49:40|INFO  UniProt mapping obtained for entry 3a9e\n"
       ]
      },
      {
       "output_type": "stream",
       "stream": "stdout",
       "text": [
        "LOG|01-Sep-2014 12:49:40|INFO  UniProt mapping obtained for entry 3dzu\n"
       ]
      },
      {
       "output_type": "stream",
       "stream": "stdout",
       "text": [
        "LOG|01-Sep-2014 12:49:41|INFO  UniProt mapping obtained for entry 3lbd\n"
       ]
      },
      {
       "output_type": "stream",
       "stream": "stdout",
       "text": [
        "LOG|01-Sep-2014 12:49:41|INFO  UniProt mapping obtained for entry 3dzy\n"
       ]
      },
      {
       "output_type": "stream",
       "stream": "stdout",
       "text": [
        "LOG|01-Sep-2014 12:49:41|INFO  UniProt mapping obtained for entry 1cbr\n"
       ]
      },
      {
       "output_type": "stream",
       "stream": "stdout",
       "text": [
        "LOG|01-Sep-2014 12:49:41|INFO  UniProt mapping obtained for entry 1cbs\n"
       ]
      },
      {
       "output_type": "stream",
       "stream": "stdout",
       "text": [
        "LOG|01-Sep-2014 12:49:41|INFO  UniProt mapping obtained for entry 3cwk\n"
       ]
      },
      {
       "output_type": "stream",
       "stream": "stdout",
       "text": [
        "LOG|01-Sep-2014 12:49:41|INFO  UniProt mapping obtained for entry 1xls\n"
       ]
      },
      {
       "output_type": "stream",
       "stream": "stdout",
       "text": [
        "LOG|01-Sep-2014 12:49:42|INFO  UniProt mapping obtained for entry 3e00\n"
       ]
      },
      {
       "output_type": "stream",
       "stream": "stdout",
       "text": [
        "LOG|01-Sep-2014 12:49:42|INFO  UniProt mapping obtained for entry 2acl\n"
       ]
      },
      {
       "output_type": "stream",
       "stream": "stdout",
       "text": [
        "LOG|01-Sep-2014 12:49:42|INFO  UniProt mapping obtained for entry 3fal\n"
       ]
      },
      {
       "output_type": "stream",
       "stream": "stdout",
       "text": [
        "LOG|01-Sep-2014 12:49:43|INFO  UniProt mapping obtained for entry 1xdk\n"
       ]
      },
      {
       "output_type": "stream",
       "stream": "stdout",
       "text": [
        "LOG|01-Sep-2014 12:49:43|INFO  UniProt mapping obtained for entry 2lbd\n"
       ]
      },
      {
       "output_type": "stream",
       "stream": "stdout",
       "text": [
        "LOG|01-Sep-2014 12:49:43|INFO  UniProt mapping obtained for entry 1g5y\n"
       ]
      },
      {
       "output_type": "stream",
       "stream": "stdout",
       "text": [
        "LOG|01-Sep-2014 12:49:43|INFO  UniProt mapping obtained for entry 1fem\n"
       ]
      },
      {
       "output_type": "stream",
       "stream": "stdout",
       "text": [
        "LOG|01-Sep-2014 12:49:43|INFO  UniProt mapping obtained for entry 1rlb\n"
       ]
      },
      {
       "output_type": "stream",
       "stream": "stdout",
       "text": [
        "LOG|01-Sep-2014 12:49:44|INFO  UniProt mapping obtained for entry 4nqa\n"
       ]
      },
      {
       "output_type": "stream",
       "stream": "stdout",
       "text": [
        "LOG|01-Sep-2014 12:49:44|INFO  UniProt mapping obtained for entry 2fr3\n"
       ]
      },
      {
       "output_type": "stream",
       "stream": "stdout",
       "text": [
        "LOG|01-Sep-2014 12:49:44|INFO  UniProt mapping obtained for entry 3uvv\n"
       ]
      },
      {
       "output_type": "stream",
       "stream": "stdout",
       "text": [
        "LOG|01-Sep-2014 12:49:44|INFO  UniProt mapping obtained for entry 2ve3\n"
       ]
      },
      {
       "output_type": "stream",
       "stream": "stdout",
       "text": [
        "LOG|01-Sep-2014 12:49:44|INFO  UniProt mapping obtained for entry 2g78\n"
       ]
      },
      {
       "output_type": "stream",
       "stream": "stdout",
       "text": [
        "LOG|01-Sep-2014 12:49:44|INFO  UniProt mapping obtained for entry 1n4h\n"
       ]
      },
      {
       "output_type": "stream",
       "stream": "stdout",
       "text": [
        "LOG|01-Sep-2014 12:49:44|INFO  UniProt mapping obtained for entry 3fc6\n"
       ]
      },
      {
       "output_type": "stream",
       "stream": "stdout",
       "text": [
        "LOG|01-Sep-2014 12:49:44|INFO  UniProt mapping obtained for entry 1tyr\n"
       ]
      },
      {
       "output_type": "stream",
       "stream": "stdout",
       "text": [
        "LOG|01-Sep-2014 12:49:45|INFO  UniProt mapping obtained for entry 4dm8\n"
       ]
      },
      {
       "output_type": "stream",
       "stream": "stdout",
       "text": [
        "LOG|01-Sep-2014 12:49:45|INFO  UniProt mapping obtained for entry 3oap\n"
       ]
      },
      {
       "output_type": "stream",
       "stream": "stdout",
       "text": [
        "LOG|01-Sep-2014 12:49:45|INFO  UniProt mapping obtained for entry 2nnh\n"
       ]
      }
     ],
     "prompt_number": 19
    }
   ],
   "metadata": {}
  }
 ]
}