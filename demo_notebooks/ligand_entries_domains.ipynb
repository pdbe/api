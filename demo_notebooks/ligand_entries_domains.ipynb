{
 "metadata": {
  "name": "",
  "signature": "sha256:acce195e3c4962c6c504ab15baf565ea3e060ea516be74471b88691e83f9d339"
 },
 "nbformat": 3,
 "nbformat_minor": 0,
 "worksheets": [
  {
   "cells": [
    {
     "cell_type": "heading",
     "level": 1,
     "metadata": {},
     "source": [
      "Compile a dataset of ligand-binding domains"
     ]
    },
    {
     "cell_type": "markdown",
     "metadata": {},
     "source": [
      "<table border=0>\n",
      "    <tr>\n",
      "        <td>\n",
      "            Often we want to see how a ligand binds to a domain and how such binding sites compare across multiple PDB entries.\n",
      "            <br>\n",
      "            <br>\n",
      "            In this example, we will use the PDBe API to :\n",
      "            <ul>\n",
      "                <li>\n",
      "                    find the PDB entries containing retinoic acid (<a href='http://pdbe.org/chem/REA'>REA</a>),\n",
      "                </li>\n",
      "                <li>\n",
      "                    analyze the domain composition of those entries,\n",
      "                </li>\n",
      "                <li>\n",
      "                    find the CATH domains which interact with REA,\n",
      "                </li>\n",
      "                <li>\n",
      "                    find a set of chains that not only bind to REA but also contain a CATH domain, and\n",
      "                </li>\n",
      "                <li>\n",
      "                    write your own improvements to the demo code.\n",
      "                </li>\n",
      "            </ul>\n",
      "        </td>\n",
      "        <td>\n",
      "             <img src=\"http://www.ebi.ac.uk/pdbe-srv/pdbechem/image/showNew?code=REA&size=200\">\n",
      "        </td>\n",
      "    </tr>\n",
      "</table>\n",
      "\n"
     ]
    },
    {
     "cell_type": "heading",
     "level": 3,
     "metadata": {},
     "source": [
      "Get started"
     ]
    },
    {
     "cell_type": "markdown",
     "metadata": {},
     "source": [
      "To start off, define the API URL you want to use. API is hosted on www and wwwdev. Generally you should use www because wwwdev is meant for beta testing."
     ]
    },
    {
     "cell_type": "code",
     "collapsed": false,
     "input": [
      "PDBE_API_URL = \"http://ves-hx-89.ebi.ac.uk/pdbe/api\""
     ],
     "language": "python",
     "metadata": {},
     "outputs": [],
     "prompt_number": 1
    },
    {
     "cell_type": "markdown",
     "metadata": {},
     "source": [
      "Browse the API documentation interactively at <code>PDBE_API_URL + \"/doc\"</code>, i.e. http://wwwdev.ebi.ac.uk/pdbe/api/doc"
     ]
    },
    {
     "cell_type": "markdown",
     "metadata": {},
     "source": [
      "You will need to import a few built-in python modules to work with the API, such as:\n",
      "<ul>\n",
      "    <li><i>urllib2</i> to make a http request to the API server</li>\n",
      "    <li><i>json</i> to convert API reponse to python object</li>\n",
      "    <li><i>logging</i> to write log messages</li>\n",
      "</ul>"
     ]
    },
    {
     "cell_type": "code",
     "collapsed": false,
     "input": [
      "import json, urllib2, logging, sys\n",
      "\n",
      "# configure the logger\n",
      "# btw, reload is just a hack to make logging work in the notebook, it's usually uncessary\n",
      "reload(logging)\n",
      "logging.basicConfig(\n",
      "    level=logging.DEBUG, stream=sys.stdout,\n",
      "    format='LOG|%(asctime)s|%(levelname)s  %(message)s', datefmt='%d-%b-%Y %H:%M:%S'\n",
      ")"
     ],
     "language": "python",
     "metadata": {},
     "outputs": [],
     "prompt_number": 50
    },
    {
     "cell_type": "heading",
     "level": 3,
     "metadata": {},
     "source": [
      "Entries containing reinoic acid"
     ]
    },
    {
     "cell_type": "markdown",
     "metadata": {},
     "source": [
      "Let us begin by finding PDB entries that contain retinoic acid (PDB chemical component REA). For this, we will use the API call <code>/pdb/compound/in_pdb.</code>"
     ]
    },
    {
     "cell_type": "code",
     "collapsed": false,
     "input": [
      "chem_comp_id = \"REA\"\n",
      "cc_entries_URL = PDBE_API_URL + \"/pdb/compound/in_pdb/\" + chem_comp_id\n",
      "cc_entries_data = json.loads(urllib2.urlopen(cc_entries_URL).read())\n",
      "cc_entries = cc_entries_data[chem_comp_id]\n",
      "logging.info(\"There are %d PDB entries containing chemical component %s.\" % (len(cc_entries), chem_comp_id))"
     ],
     "language": "python",
     "metadata": {},
     "outputs": [
      {
       "output_type": "stream",
       "stream": "stdout",
       "text": [
        "LOG|02-Sep-2014 11:12:57|INFO  There are 31 PDB entries containing chemical component REA.\n"
       ]
      }
     ],
     "prompt_number": 3
    },
    {
     "cell_type": "markdown",
     "metadata": {},
     "source": [
      "Hmmm, so we have 31 entries containing REA."
     ]
    },
    {
     "cell_type": "heading",
     "level": 6,
     "metadata": {},
     "source": [
      "A little digression...."
     ]
    },
    {
     "cell_type": "markdown",
     "metadata": {},
     "source": [
      "Before digging deeper, let us digress a bit. The API call you made can fail (very rarely) due to a variety of reasons beyond your control, e.g. network, overloading of our http servers, temporary failure of our databases, etc. Hence it is always more robust to try the call, say thrice, before raising an exception, or reporting a bug to the PDBe. Let us write a function to tuck this digression away."
     ]
    },
    {
     "cell_type": "code",
     "collapsed": false,
     "input": [
      "def get_PDBe_API_data(api_url) :\n",
      "    num_trials = 3\n",
      "    for trial_number in range(num_trials) :\n",
      "        try :\n",
      "            return json.loads(urllib2.urlopen(api_url).read())\n",
      "        except Exception, err :\n",
      "            logging.warn(\"Error fetching PDBe-API data! Trial number %d for call %s.\" % (trial_number, api_url))\n",
      "            if trial_number == num_trials-1 :\n",
      "                raise err\n",
      "\n",
      "cc_entries = get_PDBe_API_data(cc_entries_URL)[chem_comp_id]\n",
      "logging.info(\"There are %d PDB entries containing chemical component %s.\" % (len(cc_entries), chem_comp_id))"
     ],
     "language": "python",
     "metadata": {},
     "outputs": [
      {
       "output_type": "stream",
       "stream": "stdout",
       "text": [
        "LOG|02-Sep-2014 11:13:00|INFO  There are 31 PDB entries containing chemical component REA.\n"
       ]
      }
     ],
     "prompt_number": 4
    },
    {
     "cell_type": "heading",
     "level": 3,
     "metadata": {},
     "source": [
      "Obtaining the domains"
     ]
    },
    {
     "cell_type": "markdown",
     "metadata": {},
     "source": [
      "So far so good. Now let's figure the domain composition of these entries by using the SIFTS mappings call. This call returns many types of mappings, such as UniProt accessions, Pfam families, InterPro, SCOP, CATH, etc. We will make one mapping call for each PDB entry id."
     ]
    },
    {
     "cell_type": "code",
     "collapsed": false,
     "input": [
      "def get_mappings() :\n",
      "    all_mappings = {}\n",
      "    for pdb_id in cc_entries :\n",
      "        mappings_data = get_PDBe_API_data(PDBE_API_URL+\"/mappings/\"+pdb_id)\n",
      "        try :\n",
      "            all_mappings[pdb_id] = mappings_data[pdb_id]\n",
      "            print \".\",\n",
      "        except KeyError :\n",
      "            logging.warn(\"Mappings call failed for entry \" + pdb_id)\n",
      "    print \"\"\n",
      "    logging.info(\"Mappings fetched for %d of %d entries.\" % (len(all_mappings), len(cc_entries)))\n",
      "    return all_mappings\n",
      "\n",
      "mappings = get_mappings()"
     ],
     "language": "python",
     "metadata": {},
     "outputs": [
      {
       "output_type": "stream",
       "stream": "stdout",
       "text": [
        ". "
       ]
      },
      {
       "output_type": "stream",
       "stream": "stdout",
       "text": [
        ". "
       ]
      },
      {
       "output_type": "stream",
       "stream": "stdout",
       "text": [
        ". "
       ]
      },
      {
       "output_type": "stream",
       "stream": "stdout",
       "text": [
        ". "
       ]
      },
      {
       "output_type": "stream",
       "stream": "stdout",
       "text": [
        ". "
       ]
      },
      {
       "output_type": "stream",
       "stream": "stdout",
       "text": [
        ". "
       ]
      },
      {
       "output_type": "stream",
       "stream": "stdout",
       "text": [
        ". "
       ]
      },
      {
       "output_type": "stream",
       "stream": "stdout",
       "text": [
        ". "
       ]
      },
      {
       "output_type": "stream",
       "stream": "stdout",
       "text": [
        ". "
       ]
      },
      {
       "output_type": "stream",
       "stream": "stdout",
       "text": [
        ". "
       ]
      },
      {
       "output_type": "stream",
       "stream": "stdout",
       "text": [
        ". "
       ]
      },
      {
       "output_type": "stream",
       "stream": "stdout",
       "text": [
        ". "
       ]
      },
      {
       "output_type": "stream",
       "stream": "stdout",
       "text": [
        ". "
       ]
      },
      {
       "output_type": "stream",
       "stream": "stdout",
       "text": [
        ". "
       ]
      },
      {
       "output_type": "stream",
       "stream": "stdout",
       "text": [
        ". "
       ]
      },
      {
       "output_type": "stream",
       "stream": "stdout",
       "text": [
        ". "
       ]
      },
      {
       "output_type": "stream",
       "stream": "stdout",
       "text": [
        ". "
       ]
      },
      {
       "output_type": "stream",
       "stream": "stdout",
       "text": [
        ". "
       ]
      },
      {
       "output_type": "stream",
       "stream": "stdout",
       "text": [
        ". "
       ]
      },
      {
       "output_type": "stream",
       "stream": "stdout",
       "text": [
        ". "
       ]
      },
      {
       "output_type": "stream",
       "stream": "stdout",
       "text": [
        ". "
       ]
      },
      {
       "output_type": "stream",
       "stream": "stdout",
       "text": [
        ". "
       ]
      },
      {
       "output_type": "stream",
       "stream": "stdout",
       "text": [
        ". "
       ]
      },
      {
       "output_type": "stream",
       "stream": "stdout",
       "text": [
        ". . "
       ]
      },
      {
       "output_type": "stream",
       "stream": "stdout",
       "text": [
        ". "
       ]
      },
      {
       "output_type": "stream",
       "stream": "stdout",
       "text": [
        ". "
       ]
      },
      {
       "output_type": "stream",
       "stream": "stdout",
       "text": [
        ". "
       ]
      },
      {
       "output_type": "stream",
       "stream": "stdout",
       "text": [
        ". "
       ]
      },
      {
       "output_type": "stream",
       "stream": "stdout",
       "text": [
        ". "
       ]
      },
      {
       "output_type": "stream",
       "stream": "stdout",
       "text": [
        ". \n",
        "LOG|02-Sep-2014 11:13:06|INFO  Mappings fetched for 31 of 31 entries.\n"
       ]
      }
     ],
     "prompt_number": 5
    },
    {
     "cell_type": "markdown",
     "metadata": {},
     "source": [
      "Which mappings are available? Let us count."
     ]
    },
    {
     "cell_type": "code",
     "collapsed": false,
     "input": [
      "import collections\n",
      "mapping_counts = collections.defaultdict(lambda:0)\n",
      "\n",
      "for pdb_id in mappings :\n",
      "    for mapping_type, mappings_info in mappings[pdb_id].items() :\n",
      "        if len(mappings_info) > 0 :\n",
      "            mapping_counts[mapping_type] += 1\n",
      "\n",
      "for mt, mc in mapping_counts.items() :\n",
      "    logging.info(\"%3d entries have %s mappings.\" % (mc, mt))"
     ],
     "language": "python",
     "metadata": {},
     "outputs": [
      {
       "output_type": "stream",
       "stream": "stdout",
       "text": [
        "LOG|02-Sep-2014 11:13:08|INFO   31 entries have Pfam mappings.\n"
       ]
      },
      {
       "output_type": "stream",
       "stream": "stdout",
       "text": [
        "LOG|02-Sep-2014 11:13:08|INFO   31 entries have InterPro mappings.\n"
       ]
      },
      {
       "output_type": "stream",
       "stream": "stdout",
       "text": [
        "LOG|02-Sep-2014 11:13:08|INFO   26 entries have CATH mappings.\n"
       ]
      },
      {
       "output_type": "stream",
       "stream": "stdout",
       "text": [
        "LOG|02-Sep-2014 11:13:08|INFO    4 entries have EC mappings.\n"
       ]
      },
      {
       "output_type": "stream",
       "stream": "stdout",
       "text": [
        "LOG|02-Sep-2014 11:13:08|INFO   31 entries have UniProt mappings.\n"
       ]
      },
      {
       "output_type": "stream",
       "stream": "stdout",
       "text": [
        "LOG|02-Sep-2014 11:13:08|INFO   17 entries have SCOP mappings.\n"
       ]
      },
      {
       "output_type": "stream",
       "stream": "stdout",
       "text": [
        "LOG|02-Sep-2014 11:13:08|INFO   31 entries have GO mappings.\n"
       ]
      }
     ],
     "prompt_number": 6
    },
    {
     "cell_type": "markdown",
     "metadata": {},
     "source": [
      "Let us focus on CATH superfamilies and count how many times each superfamily is mapped onto entries containing the compound of our interest."
     ]
    },
    {
     "cell_type": "code",
     "collapsed": false,
     "input": [
      "dom_type = \"CATH\"\n",
      "dom_counts = collections.defaultdict(lambda:0)\n",
      "\n",
      "for pdb_id in mappings :\n",
      "    if not mappings[pdb_id].has_key(dom_type) :\n",
      "        continue\n",
      "    else :\n",
      "        for dom_id, mranges in mappings[pdb_id][dom_type].items() :\n",
      "            dom_counts[dom_id] += 1\n",
      "            #print pdb_id, dom_id, mranges\n",
      "\n",
      "for dom_id, frequency in dom_counts.items() :\n",
      "    logging.info(\"CATH superfamily %12s occurs in %3d entries.\" % (dom_id, frequency))"
     ],
     "language": "python",
     "metadata": {},
     "outputs": [
      {
       "output_type": "stream",
       "stream": "stdout",
       "text": [
        "LOG|02-Sep-2014 11:13:12|INFO  CATH superfamily  2.40.128.20 occurs in   9 entries.\n"
       ]
      },
      {
       "output_type": "stream",
       "stream": "stdout",
       "text": [
        "LOG|02-Sep-2014 11:13:12|INFO  CATH superfamily  2.60.40.180 occurs in   2 entries.\n"
       ]
      },
      {
       "output_type": "stream",
       "stream": "stdout",
       "text": [
        "LOG|02-Sep-2014 11:13:12|INFO  CATH superfamily   3.30.50.10 occurs in   3 entries.\n"
       ]
      },
      {
       "output_type": "stream",
       "stream": "stdout",
       "text": [
        "LOG|02-Sep-2014 11:13:12|INFO  CATH superfamily  1.10.565.10 occurs in  15 entries.\n"
       ]
      },
      {
       "output_type": "stream",
       "stream": "stdout",
       "text": [
        "LOG|02-Sep-2014 11:13:12|INFO  CATH superfamily  1.10.630.10 occurs in   1 entries.\n"
       ]
      }
     ],
     "prompt_number": 7
    },
    {
     "cell_type": "markdown",
     "metadata": {},
     "source": [
      "Let us now make an associative array of PDB chains with superfamilies, and print a bit of it."
     ]
    },
    {
     "cell_type": "code",
     "collapsed": false,
     "input": [
      "chain_to_domain = collections.defaultdict(lambda:[])\n",
      "for pdb_id in mappings :\n",
      "    if not mappings[pdb_id].has_key(dom_type) :\n",
      "        continue\n",
      "    else :\n",
      "        for dom_id, mapping_info in mappings[pdb_id][dom_type].items() :\n",
      "            for arange in mapping_info[\"mappings\"] :\n",
      "                chain_to_domain[(pdb_id,arange[\"chain_id\"])].append(dom_id)\n",
      "for (pdb_id,chain_id), dom_ids in chain_to_domain.items() [0:5] :\n",
      "    logging.info(\"PDB id %s chain %s contain domains %s\" % (pdb_id, chain_id, \", \".join(dom_ids)))"
     ],
     "language": "python",
     "metadata": {},
     "outputs": [
      {
       "output_type": "stream",
       "stream": "stdout",
       "text": [
        "LOG|02-Sep-2014 12:04:26|INFO  PDB id 3fal chain D contain domains 1.10.565.10\n"
       ]
      },
      {
       "output_type": "stream",
       "stream": "stdout",
       "text": [
        "LOG|02-Sep-2014 12:04:26|INFO  PDB id 3fc6 chain B contain domains 1.10.565.10\n"
       ]
      },
      {
       "output_type": "stream",
       "stream": "stdout",
       "text": [
        "LOG|02-Sep-2014 12:04:26|INFO  PDB id 3dzy chain A contain domains 3.30.50.10, 1.10.565.10\n"
       ]
      },
      {
       "output_type": "stream",
       "stream": "stdout",
       "text": [
        "LOG|02-Sep-2014 12:04:26|INFO  PDB id 1xls chain B contain domains 1.10.565.10\n"
       ]
      },
      {
       "output_type": "stream",
       "stream": "stdout",
       "text": [
        "LOG|02-Sep-2014 12:04:26|INFO  PDB id 1xiu chain B contain domains 1.10.565.10\n"
       ]
      }
     ],
     "prompt_number": 43
    },
    {
     "cell_type": "markdown",
     "metadata": {},
     "source": [
      "Note that chains can sometimes contain multiple domains."
     ]
    },
    {
     "cell_type": "heading",
     "level": 3,
     "metadata": {},
     "source": [
      "Obtaining the binding sites"
     ]
    },
    {
     "cell_type": "markdown",
     "metadata": {},
     "source": [
      "Now let us turn our attention to binding sites information. Let us write a function that will fetch it using binding sites API call."
     ]
    },
    {
     "cell_type": "code",
     "collapsed": false,
     "input": [
      "def get_binding_sites() :\n",
      "    all_sites = collections.defaultdict(lambda:[])\n",
      "    for pdb_id in cc_entries :\n",
      "        api_data = get_PDBe_API_data(PDBE_API_URL+\"/pdb/entry/binding_sites/\"+pdb_id)\n",
      "        for asite in api_data[pdb_id] :\n",
      "            site_added = False\n",
      "            for aligand in asite[\"ligand_residues\"] :\n",
      "                if aligand[\"chem_comp_id\"] == chem_comp_id and not site_added :\n",
      "                    all_sites[pdb_id].append(asite)\n",
      "                    site_added = True\n",
      "                    break\n",
      "    return all_sites"
     ],
     "language": "python",
     "metadata": {},
     "outputs": [],
     "prompt_number": 23
    },
    {
     "cell_type": "markdown",
     "metadata": {},
     "source": [
      "Ideally we expect there to be at least one binding site for REA defined in each entry. Let us verify that."
     ]
    },
    {
     "cell_type": "code",
     "collapsed": false,
     "input": [
      "binding_sites = get_binding_sites()\n",
      "binding_frequency = collections.defaultdict(lambda:0)\n",
      "for pdb_id, sites_info in binding_sites.items() :\n",
      "    binding_frequency[len(sites_info)] += 1\n",
      "for num_sites, num_entries in binding_frequency.items() :\n",
      "    logging.info(\"%2d entries have %2d binding sites of %s.\" % (num_entries, num_sites, chem_comp_id))"
     ],
     "language": "python",
     "metadata": {},
     "outputs": [
      {
       "output_type": "stream",
       "stream": "stdout",
       "text": [
        "LOG|02-Sep-2014 12:04:38|INFO  13 entries have  1 binding sites of REA.\n"
       ]
      },
      {
       "output_type": "stream",
       "stream": "stdout",
       "text": [
        "LOG|02-Sep-2014 12:04:38|INFO  11 entries have  2 binding sites of REA.\n"
       ]
      },
      {
       "output_type": "stream",
       "stream": "stdout",
       "text": [
        "LOG|02-Sep-2014 12:04:38|INFO   2 entries have  4 binding sites of REA.\n"
       ]
      }
     ],
     "prompt_number": 44
    },
    {
     "cell_type": "markdown",
     "metadata": {},
     "source": [
      "Now let us find domain annotation on chains that have at least one residue in binding site of our favourite compound."
     ]
    },
    {
     "cell_type": "code",
     "collapsed": false,
     "input": [
      "binding_chains = set()\n",
      "for pdb_id, sites_info in binding_sites.items() :\n",
      "    for asite in sites_info :\n",
      "        for res_info in asite[\"site_residues\"] :\n",
      "            binding_chains.add( (pdb_id, res_info[\"chain_id\"]) )\n",
      "\n",
      "logging.info(\"%d PDB chains bind %s.\" % (len(binding_chains),chem_comp_id))       "
     ],
     "language": "python",
     "metadata": {},
     "outputs": [
      {
       "output_type": "stream",
       "stream": "stdout",
       "text": [
        "LOG|02-Sep-2014 11:55:22|INFO  1 PDB chains bind REA.\n"
       ]
      }
     ],
     "prompt_number": 38
    },
    {
     "cell_type": "markdown",
     "metadata": {},
     "source": [
      "Now we can find chains common to binding sites and CATH superfamilies to find instances of domains with binding ligands. Since a chain can contain multiple CATH domains, we need to choose with a particular CATH domain, say 2.40.128.20."
     ]
    },
    {
     "cell_type": "code",
     "collapsed": false,
     "input": [
      "domain_of_choice = \"2.40.128.20\"\n",
      "for pdb_chain in binding_chains :\n",
      "    if chain_to_domain.has_key(pdb_chain) and domain_of_choice in chain_to_domain[pdb_chain] :\n",
      "        logging.info(\"PDB id %s chain %s binds %s and contains CATH domains %s\" % \\\n",
      "                     (pdb_chain[0], pdb_chain[1], chem_comp_id, \",\".join(chain_to_domain[pdb_chain])))"
     ],
     "language": "python",
     "metadata": {},
     "outputs": [
      {
       "output_type": "stream",
       "stream": "stdout",
       "text": [
        "LOG|02-Sep-2014 12:26:04|INFO  PDB id 1cbs chain A binds REA and contains CATH domains 2.40.128.20\n"
       ]
      }
     ],
     "prompt_number": 51
    },
    {
     "cell_type": "markdown",
     "metadata": {},
     "source": [
      "Hurray! we now have a dataset of chains we can study to understand the binding between retinoic acid and the CATH domain!"
     ]
    },
    {
     "cell_type": "heading",
     "level": 3,
     "metadata": {},
     "source": [
      "Your turn!"
     ]
    },
    {
     "cell_type": "markdown",
     "metadata": {},
     "source": [
      "There are many improvement you can readily make to this recipe to obtain a better dataset for your study, such as:\n",
      "<ul>\n",
      "    <li>Use validation information to choose only high quality binding sites. You can use the validation API calls to check gloval quality metrics like resolution, Rfree, or more local parameters like residue-wise geometry outliers and electron density fit.</li>\n",
      "    <li>Make a non-redundant set of binding sites by choosing only one from each PDB id. Use your favourite sequence alignment software to remove chains with very similar sequences.</li>\n",
      "    <li>Choose chains where there is sufficient overlap between binding site residues and domain-mapped residues.</li>\n",
      "</ul>"
     ]
    },
    {
     "cell_type": "heading",
     "level": 3,
     "metadata": {},
     "source": [
      "TODO LIST"
     ]
    },
    {
     "cell_type": "markdown",
     "metadata": {},
     "source": [
      "<ul>\n",
      "    <li>add more color to the tutorial using inline pyplots of simple things like histogram based on number of REA etc </li>\n",
      "    <li>check output - binding site API call isnt stable yet....</li>\n",
      "</ul>"
     ]
    }
   ],
   "metadata": {}
  }
 ]
}