{
 "metadata": {
  "name": "comparative_validation"
 },
 "nbformat": 3,
 "nbformat_minor": 0,
 "worksheets": [
  {
   "cells": [
    {
     "cell_type": "heading",
     "level": 3,
     "metadata": {},
     "source": [
      "Feature  or outlier?"
     ]
    },
    {
     "cell_type": "markdown",
     "metadata": {},
     "source": [
      "Validation of protein structures is a collection of metrics to quantify the expectation of occurrence features in a model.\n",
      "But an unusual feature is not always an error which makes it tricky to separate the two.\n",
      "\n",
      "One way to shed more light in such situations is to see whether similar error occurs in other models of that protein, e.g.\n",
      "<ul>\n",
      "<li>\n",
      "    the asymmetric unit of an entry might have more than one copy of the protein, or\n",
      "</li>\n",
      "<li>\n",
      "    there might be multiple MODEL records each containing a copy of the protein, or\n",
      "</li>\n",
      "<li>\n",
      "    there might be other entries with the same protein.\n",
      "</li>\n",
      "</ul>\n",
      "In general, it would be useful to create a quality profile from multiple models of a protein to see whether a residue systematically exhibits an unusual modelling feature, or whether an unusual feature is an error not observed in other models.\n",
      "\n",
      "In this tutorial, let us see how backbone and sidechain features of residues compare across the multiple copies of \n",
      "GroEL in <a href=\"http://pdbe.org/1kp8\">PDB entry 1kp8</a> determined in 2003 at resolution of 2&Aring;."
     ]
    },
    {
     "cell_type": "heading",
     "level": 3,
     "metadata": {},
     "source": [
      "Getting started"
     ]
    },
    {
     "cell_type": "markdown",
     "metadata": {},
     "source": [
      "As in other tutorials, let us first set up a few basics like importing a few essential modules, setting up a logger and writing a function to fetch API json to return them as python objects."
     ]
    },
    {
     "cell_type": "code",
     "collapsed": false,
     "input": [
      "import json, urllib2, logging, sys\n",
      "\n",
      "reload(logging)\n",
      "logging.basicConfig(\n",
      "    level=logging.DEBUG, stream=sys.stdout,\n",
      "    format='LOG|%(asctime)s|%(levelname)s  %(message)s', datefmt='%d-%b-%Y %H:%M:%S'\n",
      ")\n",
      "\n",
      "PDBE_API_URL = \"http://wwwdev.ebi.ac.uk/pdbe/api\"\n",
      "\n",
      "def get_PDBe_API_data(api_url) :\n",
      "    num_trials = 3\n",
      "    for trial_number in range(num_trials) :\n",
      "        try :\n",
      "            return json.loads(urllib2.urlopen(api_url).read())\n",
      "        except Exception, err :\n",
      "            logging.warn(\"Error fetching PDBe-API data! Trial number %d for call %s.\" % (trial_number, api_url))\n",
      "            if trial_number == num_trials-1 :\n",
      "                raise err"
     ],
     "language": "python",
     "metadata": {},
     "outputs": [],
     "prompt_number": 4
    },
    {
     "cell_type": "heading",
     "level": 3,
     "metadata": {},
     "source": [
      "Fetching validation information"
     ]
    },
    {
     "cell_type": "markdown",
     "metadata": {},
     "source": [
      "Now we will identify the molecule number of GroEL in entry 1kp8 using the /pdb/entry/molecules call."
     ]
    },
    {
     "cell_type": "code",
     "collapsed": false,
     "input": [
      "the_pdbid = \"1kp8\"\n",
      "\n",
      "mols_data = get_PDBe_API_data(PDBE_API_URL + \"/pdb/entry/molecules/\" + the_pdbid)[the_pdbid]\n",
      "logging.info(\"PDB entry %s has %d types of molecules.\" % (the_pdbid, len(mols_data)))\n",
      "\n",
      "for mol_info in mols_data :\n",
      "    if mol_info[\"molecule_type\"] == \"polypeptide(L)\" :\n",
      "        logging.info( \"Molecule no. %d, '%s', is a protein modelled in %d chains %s.\" % \\\n",
      "            (mol_info[\"entity_id\"], mol_info[\"molecule_name\"], \\\n",
      "            len(mol_info[\"in_chains\"]), \",\".join(mol_info[\"in_chains\"])) \\\n",
      "        )"
     ],
     "language": "python",
     "metadata": {},
     "outputs": [
      {
       "output_type": "stream",
       "stream": "stdout",
       "text": [
        "LOG|07-Sep-2014 21:56:27|INFO  PDB entry 1kp8 has 6 types of molecules.\n"
       ]
      },
      {
       "output_type": "stream",
       "stream": "stdout",
       "text": [
        "LOG|07-Sep-2014 21:56:27|INFO  Molecule no. 1, '60 kDa chaperonin', is a protein modelled in 14 chains A,B,C,D,E,F,G,H,I,J,K,L,M,N.\n"
       ]
      }
     ],
     "prompt_number": 18
    },
    {
     "cell_type": "markdown",
     "metadata": {},
     "source": [
      "So the protein of interest is molecule no. 1 and there are 14 copies of it.\n",
      "\n",
      "Let us now obtain per-residue information on backbone (Ramachandran) and sidechain quality using the call /validation/rama_sidechain_listing/."
     ]
    },
    {
     "cell_type": "code",
     "collapsed": false,
     "input": [
      "rama_data = get_PDBe_API_data(PDBE_API_URL + \"/validation/rama_sidechain_listing/entry/\" + the_pdbid) [the_pdbid]"
     ],
     "language": "python",
     "metadata": {},
     "outputs": [],
     "prompt_number": 7
    },
    {
     "cell_type": "markdown",
     "metadata": {},
     "source": [
      "Let us define a container which will hold information about Ramachandran state (outlier, allowed, favoured) and rotamer state (rotamer name or outlier) for each residue of each chain."
     ]
    },
    {
     "cell_type": "code",
     "collapsed": false,
     "input": [
      "import collections\n",
      "outliers = {\n",
      "    \"rama\":collections.defaultdict(lambda: collections.defaultdict(lambda:[])),\n",
      "    \"rota\":collections.defaultdict(lambda: collections.defaultdict(lambda:[])),\n",
      "}"
     ],
     "language": "python",
     "metadata": {},
     "outputs": [],
     "prompt_number": 10
    },
    {
     "cell_type": "markdown",
     "metadata": {},
     "source": [
      "Let us populate this container with Rama and sidechain information from chains modelling molecule no. 1 in the first and only MODEL in the entry."
     ]
    },
    {
     "cell_type": "code",
     "collapsed": false,
     "input": [
      "for mol in rama_data[\"molecules\"] :\n",
      "    if str(mol[\"entity_id\"]) != \"1\" :\n",
      "        continue\n",
      "    for chain in mol[\"chains\"] :\n",
      "        model = chain[\"models\"][0]\n",
      "        logging.info(\"Chain id %s has Rama sidechain validation for %d residues.\" % (chain[\"chain_id\"], len(model[\"residues\"])))\n",
      "        for residue in model[\"residues\"] :\n",
      "            res_id = (residue[\"residue_name\"],residue[\"author_residue_number\"],residue[\"author_insertion_code\"])\n",
      "            outliers[\"rama\"] [res_id] [ residue[\"rama\"] ].append( chain[\"chain_id\"] )\n",
      "            outliers[\"rota\"] [res_id] [ residue[\"rota\"] ].append( chain[\"chain_id\"] )"
     ],
     "language": "python",
     "metadata": {},
     "outputs": [
      {
       "output_type": "stream",
       "stream": "stdout",
       "text": [
        "LOG|07-Sep-2014 21:31:11|INFO  Chain id A has Rama sidechain validation for 524 residues.\n"
       ]
      },
      {
       "output_type": "stream",
       "stream": "stdout",
       "text": [
        "LOG|07-Sep-2014 21:31:11|INFO  Chain id C has Rama sidechain validation for 524 residues.\n"
       ]
      },
      {
       "output_type": "stream",
       "stream": "stdout",
       "text": [
        "LOG|07-Sep-2014 21:31:11|INFO  Chain id B has Rama sidechain validation for 524 residues.\n"
       ]
      },
      {
       "output_type": "stream",
       "stream": "stdout",
       "text": [
        "LOG|07-Sep-2014 21:31:11|INFO  Chain id E has Rama sidechain validation for 524 residues.\n"
       ]
      },
      {
       "output_type": "stream",
       "stream": "stdout",
       "text": [
        "LOG|07-Sep-2014 21:31:11|INFO  Chain id D has Rama sidechain validation for 524 residues.\n"
       ]
      },
      {
       "output_type": "stream",
       "stream": "stdout",
       "text": [
        "LOG|07-Sep-2014 21:31:11|INFO  Chain id G has Rama sidechain validation for 524 residues.\n"
       ]
      },
      {
       "output_type": "stream",
       "stream": "stdout",
       "text": [
        "LOG|07-Sep-2014 21:31:11|INFO  Chain id F has Rama sidechain validation for 524 residues.\n"
       ]
      },
      {
       "output_type": "stream",
       "stream": "stdout",
       "text": [
        "LOG|07-Sep-2014 21:31:11|INFO  Chain id I has Rama sidechain validation for 524 residues.\n"
       ]
      },
      {
       "output_type": "stream",
       "stream": "stdout",
       "text": [
        "LOG|07-Sep-2014 21:31:11|INFO  Chain id H has Rama sidechain validation for 524 residues.\n"
       ]
      },
      {
       "output_type": "stream",
       "stream": "stdout",
       "text": [
        "LOG|07-Sep-2014 21:31:11|INFO  Chain id K has Rama sidechain validation for 524 residues.\n"
       ]
      },
      {
       "output_type": "stream",
       "stream": "stdout",
       "text": [
        "LOG|07-Sep-2014 21:31:11|INFO  Chain id J has Rama sidechain validation for 524 residues.\n"
       ]
      },
      {
       "output_type": "stream",
       "stream": "stdout",
       "text": [
        "LOG|07-Sep-2014 21:31:11|INFO  Chain id M has Rama sidechain validation for 524 residues.\n"
       ]
      },
      {
       "output_type": "stream",
       "stream": "stdout",
       "text": [
        "LOG|07-Sep-2014 21:31:11|INFO  Chain id L has Rama sidechain validation for 524 residues.\n"
       ]
      },
      {
       "output_type": "stream",
       "stream": "stdout",
       "text": [
        "LOG|07-Sep-2014 21:31:11|INFO  Chain id N has Rama sidechain validation for 524 residues.\n"
       ]
      }
     ],
     "prompt_number": 12
    },
    {
     "cell_type": "heading",
     "level": 3,
     "metadata": {},
     "source": [
      "Finding the odd ones"
     ]
    },
    {
     "cell_type": "markdown",
     "metadata": {},
     "source": [
      "Now let write a function which will the residues that have more than one Rama or sidechain state, such that a large majority of chains have the same state."
     ]
    },
    {
     "cell_type": "code",
     "collapsed": false,
     "input": [
      "def print_unusual_residues(val_key, major_state_freq) :\n",
      "    for res_id, val_info in  outliers[val_key].items() :\n",
      "        if len(val_info) == 1 : continue\n",
      "        if not any( [len(val_info[k]) >= major_state_freq for k in val_info] ) :\n",
      "            continue\n",
      "        val_keys = sorted( val_info.keys(), key = lambda vk:len(val_info[vk]), reverse=True )\n",
      "        state_frequencies = \", \".join([\"%7s\"%k+\":%2d\" % len(val_info[k]) for k in val_keys])\n",
      "        minor_chains_str = \" \".join([\"%s:%s\"%(k,\",\".join(val_info[k])) for k in val_keys[1:]])\n",
      "        logging.info(\"Residue [%3s %4s%s] has multiple %s states: %s || Unusual chains %s\" % \\\n",
      "            (res_id[0], res_id[1], res_id[2], val_key, state_frequencies, minor_chains_str) \\\n",
      "        )"
     ],
     "language": "python",
     "metadata": {},
     "outputs": [],
     "prompt_number": 14
    },
    {
     "cell_type": "markdown",
     "metadata": {},
     "source": [
      "Let us print residues with unusual Ramachandran state when compared to counterparts in other chains."
     ]
    },
    {
     "cell_type": "code",
     "collapsed": false,
     "input": [
      "print_unusual_residues(\"rama\", 12)"
     ],
     "language": "python",
     "metadata": {},
     "outputs": [
      {
       "output_type": "stream",
       "stream": "stdout",
       "text": [
        "LOG|07-Sep-2014 21:40:20|INFO  Residue [PRO  462] has multiple rama states: Favored:12, Allowed: 2 || Unusual chains Allowed:E,L\n"
       ]
      },
      {
       "output_type": "stream",
       "stream": "stdout",
       "text": [
        "LOG|07-Sep-2014 21:40:20|INFO  Residue [ILE  342] has multiple rama states: Favored:13, Allowed: 1 || Unusual chains Allowed:I\n"
       ]
      },
      {
       "output_type": "stream",
       "stream": "stdout",
       "text": [
        "LOG|07-Sep-2014 21:40:20|INFO  Residue [LEU  222] has multiple rama states: Allowed:12, Favored: 2 || Unusual chains Favored:D,G\n"
       ]
      },
      {
       "output_type": "stream",
       "stream": "stdout",
       "text": [
        "LOG|07-Sep-2014 21:40:20|INFO  Residue [ALA  383] has multiple rama states: OUTLIER:13, Allowed: 1 || Unusual chains Allowed:A\n"
       ]
      },
      {
       "output_type": "stream",
       "stream": "stdout",
       "text": [
        "LOG|07-Sep-2014 21:40:20|INFO  Residue [THR  497] has multiple rama states: Favored:13, Allowed: 1 || Unusual chains Allowed:K\n"
       ]
      },
      {
       "output_type": "stream",
       "stream": "stdout",
       "text": [
        "LOG|07-Sep-2014 21:40:20|INFO  Residue [GLU  156] has multiple rama states: Favored:13, Allowed: 1 || Unusual chains Allowed:E\n"
       ]
      },
      {
       "output_type": "stream",
       "stream": "stdout",
       "text": [
        "LOG|07-Sep-2014 21:40:20|INFO  Residue [ASP  253] has multiple rama states: OUTLIER:12, Allowed: 2 || Unusual chains Allowed:D,N\n"
       ]
      },
      {
       "output_type": "stream",
       "stream": "stdout",
       "text": [
        "LOG|07-Sep-2014 21:40:20|INFO  Residue [SER  154] has multiple rama states: Favored:12, Allowed: 2 || Unusual chains Allowed:B,E\n"
       ]
      }
     ],
     "prompt_number": 16
    },
    {
     "cell_type": "markdown",
     "metadata": {},
     "source": [
      "Here we see that Thr K-497, Glu E-156 are in the allowed region whereas residues in other chains are all in the favoured region.\n",
      "These residues need to be reviewed.\n",
      "\n",
      "Residues Ala 383, Asp 253 are nearly always outliers. This could be a genuine outlier with good reason, or it could be a systematic error!"
     ]
    },
    {
     "cell_type": "markdown",
     "metadata": {},
     "source": [
      "Similarly, let us print residues where only a small minority of chains have a different sidechain rotamer at a residue position."
     ]
    },
    {
     "cell_type": "code",
     "collapsed": false,
     "input": [
      "print_unusual_residues(\"rota\",13)"
     ],
     "language": "python",
     "metadata": {},
     "outputs": [
      {
       "output_type": "stream",
       "stream": "stdout",
       "text": [
        "LOG|07-Sep-2014 21:47:01|INFO  Residue [VAL  510] has multiple rota states:       t:13, OUTLIER: 1 || Unusual chains OUTLIER:B\n"
       ]
      },
      {
       "output_type": "stream",
       "stream": "stdout",
       "text": [
        "LOG|07-Sep-2014 21:47:01|INFO  Residue [ARG   58] has multiple rota states:  mtm-85:13,  mtt180: 1 || Unusual chains mtt180:B\n"
       ]
      },
      {
       "output_type": "stream",
       "stream": "stdout",
       "text": [
        "LOG|07-Sep-2014 21:47:01|INFO  Residue [ASP   52] has multiple rota states:     t70:13,      t0: 1 || Unusual chains t0:B\n"
       ]
      },
      {
       "output_type": "stream",
       "stream": "stdout",
       "text": [
        "LOG|07-Sep-2014 21:47:01|INFO  Residue [LYS   75] has multiple rota states: OUTLIER:13,    tttt: 1 || Unusual chains tttt:E\n"
       ]
      },
      {
       "output_type": "stream",
       "stream": "stdout",
       "text": [
        "LOG|07-Sep-2014 21:47:01|INFO  Residue [VAL  417] has multiple rota states:       m:13, OUTLIER: 1 || Unusual chains OUTLIER:L\n"
       ]
      },
      {
       "output_type": "stream",
       "stream": "stdout",
       "text": [
        "LOG|07-Sep-2014 21:47:01|INFO  Residue [GLU  130] has multiple rota states:    tp10:13,   mt-10: 1 || Unusual chains mt-10:B\n"
       ]
      },
      {
       "output_type": "stream",
       "stream": "stdout",
       "text": [
        "LOG|07-Sep-2014 21:47:01|INFO  Residue [VAL  128] has multiple rota states:       t:13,       m: 1 || Unusual chains m:B\n"
       ]
      },
      {
       "output_type": "stream",
       "stream": "stdout",
       "text": [
        "LOG|07-Sep-2014 21:47:01|INFO  Residue [GLU  129] has multiple rota states:   mt-10:13,    tp10: 1 || Unusual chains tp10:B\n"
       ]
      },
      {
       "output_type": "stream",
       "stream": "stdout",
       "text": [
        "LOG|07-Sep-2014 21:47:01|INFO  Residue [ARG  368] has multiple rota states:  mtm180:13,  mtp180: 1 || Unusual chains mtp180:N\n"
       ]
      },
      {
       "output_type": "stream",
       "stream": "stdout",
       "text": [
        "LOG|07-Sep-2014 21:47:01|INFO  Residue [MET  514] has multiple rota states:     mtp:13, OUTLIER: 1 || Unusual chains OUTLIER:E\n"
       ]
      },
      {
       "output_type": "stream",
       "stream": "stdout",
       "text": [
        "LOG|07-Sep-2014 21:47:01|INFO  Residue [ARG  231] has multiple rota states:  mtt180:13,  mtp180: 1 || Unusual chains mtp180:J\n"
       ]
      },
      {
       "output_type": "stream",
       "stream": "stdout",
       "text": [
        "LOG|07-Sep-2014 21:47:01|INFO  Residue [ASP  490] has multiple rota states:    m-20:13,     t70: 1 || Unusual chains t70:E\n"
       ]
      },
      {
       "output_type": "stream",
       "stream": "stdout",
       "text": [
        "LOG|07-Sep-2014 21:47:01|INFO  Residue [ASP  334] has multiple rota states:     t70:13,      t0: 1 || Unusual chains t0:D\n"
       ]
      },
      {
       "output_type": "stream",
       "stream": "stdout",
       "text": [
        "LOG|07-Sep-2014 21:47:01|INFO  Residue [SER  424] has multiple rota states:       p:13,       m: 1 || Unusual chains m:E\n"
       ]
      },
      {
       "output_type": "stream",
       "stream": "stdout",
       "text": [
        "LOG|07-Sep-2014 21:47:01|INFO  Residue [ARG  284] has multiple rota states:  ptt180:13, OUTLIER: 1 || Unusual chains OUTLIER:M\n"
       ]
      },
      {
       "output_type": "stream",
       "stream": "stdout",
       "text": [
        "LOG|07-Sep-2014 21:47:01|INFO  Residue [VAL   74] has multiple rota states:       p:13,       t: 1 || Unusual chains t:B\n"
       ]
      }
     ],
     "prompt_number": 17
    },
    {
     "cell_type": "markdown",
     "metadata": {},
     "source": [
      "Note residues like Met E-514, Val L-417 who have rotameric counterparts in other chains - their sidechain most probably needs remodelling.\n",
      "Also note residues like Lys 75 could be outliers for a good reason, or could just be systematic outliers."
     ]
    },
    {
     "cell_type": "heading",
     "level": 3,
     "metadata": {},
     "source": [
      "Your turn!"
     ]
    },
    {
     "cell_type": "markdown",
     "metadata": {},
     "source": [
      "<ul>\n",
      "    <li>\n",
      "        Redo this comparison for an entry of your interest. Open the entry and electron density maps in a 3D viewer and discuss your findings.\n",
      "    </li>\n",
      "    <li>\n",
      "        Extend such comparison to other kinds of geometric quality, such as bond lengths, vdW clashes, chirality, etc.\n",
      "    </li>\n",
      "    <li>\n",
      "        Extend the comparison to include same protein in multiple entries.\n",
      "    </li>\n",
      "</ul>"
     ]
    }
   ],
   "metadata": {}
  }
 ]
}